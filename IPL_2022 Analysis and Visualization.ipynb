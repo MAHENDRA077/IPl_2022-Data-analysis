{
 "cells": [
  {
   "cell_type": "markdown",
   "id": "e6ed8ba1",
   "metadata": {},
   "source": [
    "## Import Necessary Libraries"
   ]
  },
  {
   "cell_type": "code",
   "execution_count": 1,
   "id": "750c979b",
   "metadata": {},
   "outputs": [],
   "source": [
    "import pandas as pd\n",
    "import numpy as np\n",
    "import matplotlib.pyplot as plt\n",
    "%matplotlib inline\n",
    "import seaborn as sns"
   ]
  },
  {
   "cell_type": "markdown",
   "id": "55bb7f71",
   "metadata": {},
   "source": [
    "## Step:1 Load The Data"
   ]
  },
  {
   "cell_type": "code",
   "execution_count": 2,
   "id": "c57ca45a",
   "metadata": {},
   "outputs": [],
   "source": [
    "ipl_22=pd.read_excel(\"M:/DataSets/ipl_22.xlsx\", index_col=0)"
   ]
  },
  {
   "cell_type": "code",
   "execution_count": 3,
   "id": "fc824f0a",
   "metadata": {},
   "outputs": [
    {
     "data": {
      "text/plain": [
       "Index(['date', 'venue', 'team1', 'team2', 'stage', 'toss_winner',\n",
       "       'toss_decision', 'first_ings_score', 'first_ings_wkts',\n",
       "       'second_ings_score', 'second_ings_wkts', 'match_winner', 'won_by',\n",
       "       'margin', 'player_of_the_match', 'top_scorer', 'highscore',\n",
       "       'best_bowling', 'best_bowling_figure'],\n",
       "      dtype='object')"
      ]
     },
     "execution_count": 3,
     "metadata": {},
     "output_type": "execute_result"
    }
   ],
   "source": [
    "ipl_22.columns"
   ]
  },
  {
   "cell_type": "code",
   "execution_count": 4,
   "id": "c25ffdbd",
   "metadata": {},
   "outputs": [
    {
     "data": {
      "text/html": [
       "<div>\n",
       "<style scoped>\n",
       "    .dataframe tbody tr th:only-of-type {\n",
       "        vertical-align: middle;\n",
       "    }\n",
       "\n",
       "    .dataframe tbody tr th {\n",
       "        vertical-align: top;\n",
       "    }\n",
       "\n",
       "    .dataframe thead th {\n",
       "        text-align: right;\n",
       "    }\n",
       "</style>\n",
       "<table border=\"1\" class=\"dataframe\">\n",
       "  <thead>\n",
       "    <tr style=\"text-align: right;\">\n",
       "      <th></th>\n",
       "      <th>first_ings_score</th>\n",
       "      <th>first_ings_wkts</th>\n",
       "      <th>second_ings_score</th>\n",
       "      <th>second_ings_wkts</th>\n",
       "      <th>margin</th>\n",
       "      <th>highscore</th>\n",
       "    </tr>\n",
       "  </thead>\n",
       "  <tbody>\n",
       "    <tr>\n",
       "      <th>count</th>\n",
       "      <td>74.000000</td>\n",
       "      <td>74.000000</td>\n",
       "      <td>74.000000</td>\n",
       "      <td>74.000000</td>\n",
       "      <td>74.000000</td>\n",
       "      <td>74.000000</td>\n",
       "    </tr>\n",
       "    <tr>\n",
       "      <th>mean</th>\n",
       "      <td>171.121622</td>\n",
       "      <td>6.135135</td>\n",
       "      <td>158.540541</td>\n",
       "      <td>6.175676</td>\n",
       "      <td>16.972973</td>\n",
       "      <td>71.716216</td>\n",
       "    </tr>\n",
       "    <tr>\n",
       "      <th>std</th>\n",
       "      <td>29.048355</td>\n",
       "      <td>2.222699</td>\n",
       "      <td>29.299207</td>\n",
       "      <td>2.639832</td>\n",
       "      <td>19.651047</td>\n",
       "      <td>20.705052</td>\n",
       "    </tr>\n",
       "    <tr>\n",
       "      <th>min</th>\n",
       "      <td>68.000000</td>\n",
       "      <td>0.000000</td>\n",
       "      <td>72.000000</td>\n",
       "      <td>1.000000</td>\n",
       "      <td>2.000000</td>\n",
       "      <td>28.000000</td>\n",
       "    </tr>\n",
       "    <tr>\n",
       "      <th>25%</th>\n",
       "      <td>154.250000</td>\n",
       "      <td>5.000000</td>\n",
       "      <td>142.750000</td>\n",
       "      <td>4.000000</td>\n",
       "      <td>5.250000</td>\n",
       "      <td>57.000000</td>\n",
       "    </tr>\n",
       "    <tr>\n",
       "      <th>50%</th>\n",
       "      <td>169.500000</td>\n",
       "      <td>6.000000</td>\n",
       "      <td>160.000000</td>\n",
       "      <td>6.000000</td>\n",
       "      <td>8.000000</td>\n",
       "      <td>68.000000</td>\n",
       "    </tr>\n",
       "    <tr>\n",
       "      <th>75%</th>\n",
       "      <td>192.750000</td>\n",
       "      <td>8.000000</td>\n",
       "      <td>176.000000</td>\n",
       "      <td>8.000000</td>\n",
       "      <td>18.000000</td>\n",
       "      <td>87.750000</td>\n",
       "    </tr>\n",
       "    <tr>\n",
       "      <th>max</th>\n",
       "      <td>222.000000</td>\n",
       "      <td>10.000000</td>\n",
       "      <td>211.000000</td>\n",
       "      <td>10.000000</td>\n",
       "      <td>91.000000</td>\n",
       "      <td>140.000000</td>\n",
       "    </tr>\n",
       "  </tbody>\n",
       "</table>\n",
       "</div>"
      ],
      "text/plain": [
       "       first_ings_score  first_ings_wkts  second_ings_score  second_ings_wkts  \\\n",
       "count         74.000000        74.000000          74.000000         74.000000   \n",
       "mean         171.121622         6.135135         158.540541          6.175676   \n",
       "std           29.048355         2.222699          29.299207          2.639832   \n",
       "min           68.000000         0.000000          72.000000          1.000000   \n",
       "25%          154.250000         5.000000         142.750000          4.000000   \n",
       "50%          169.500000         6.000000         160.000000          6.000000   \n",
       "75%          192.750000         8.000000         176.000000          8.000000   \n",
       "max          222.000000        10.000000         211.000000         10.000000   \n",
       "\n",
       "          margin   highscore  \n",
       "count  74.000000   74.000000  \n",
       "mean   16.972973   71.716216  \n",
       "std    19.651047   20.705052  \n",
       "min     2.000000   28.000000  \n",
       "25%     5.250000   57.000000  \n",
       "50%     8.000000   68.000000  \n",
       "75%    18.000000   87.750000  \n",
       "max    91.000000  140.000000  "
      ]
     },
     "execution_count": 4,
     "metadata": {},
     "output_type": "execute_result"
    }
   ],
   "source": [
    "# descriptive Statistics ...\n",
    "ipl_22.describe()"
   ]
  },
  {
   "cell_type": "markdown",
   "id": "d664dbf5",
   "metadata": {},
   "source": [
    "## Step-2: Check for Null Values"
   ]
  },
  {
   "cell_type": "code",
   "execution_count": 5,
   "id": "48f03e53",
   "metadata": {},
   "outputs": [
    {
     "data": {
      "text/plain": [
       "date                   0\n",
       "venue                  0\n",
       "team1                  0\n",
       "team2                  0\n",
       "stage                  0\n",
       "toss_winner            0\n",
       "toss_decision          0\n",
       "first_ings_score       0\n",
       "first_ings_wkts        0\n",
       "second_ings_score      0\n",
       "second_ings_wkts       0\n",
       "match_winner           0\n",
       "won_by                 0\n",
       "margin                 0\n",
       "player_of_the_match    1\n",
       "top_scorer             0\n",
       "highscore              0\n",
       "best_bowling           0\n",
       "best_bowling_figure    0\n",
       "dtype: int64"
      ]
     },
     "execution_count": 5,
     "metadata": {},
     "output_type": "execute_result"
    }
   ],
   "source": [
    "# using na\n",
    "ipl_22.isna().sum()"
   ]
  },
  {
   "cell_type": "markdown",
   "id": "9aedd20c",
   "metadata": {},
   "source": [
    "#### check for missing values with the help of sns heatmap"
   ]
  },
  {
   "cell_type": "code",
   "execution_count": 6,
   "id": "d3b7c67e",
   "metadata": {},
   "outputs": [
    {
     "data": {
      "text/plain": [
       "<AxesSubplot:ylabel='match_id'>"
      ]
     },
     "execution_count": 6,
     "metadata": {},
     "output_type": "execute_result"
    },
    {
     "data": {
      "image/png": "[encoded data removed]",
      "text/plain": [
       "<Figure size 432x288 with 2 Axes>"
      ]
     },
     "metadata": {
      "needs_background": "light"
     },
     "output_type": "display_data"
    }
   ],
   "source": [
    "sns.heatmap(ipl_22.isnull(),cmap='viridis')"
   ]
  },
  {
   "cell_type": "markdown",
   "id": "a0b2e4fd",
   "metadata": {},
   "source": [
    "As we see in the above plot there is only one bright yellow stride it points to the data missing."
   ]
  },
  {
   "cell_type": "code",
   "execution_count": 7,
   "id": "4ee823b7",
   "metadata": {},
   "outputs": [
    {
     "data": {
      "text/html": [
       "<div>\n",
       "<style scoped>\n",
       "    .dataframe tbody tr th:only-of-type {\n",
       "        vertical-align: middle;\n",
       "    }\n",
       "\n",
       "    .dataframe tbody tr th {\n",
       "        vertical-align: top;\n",
       "    }\n",
       "\n",
       "    .dataframe thead th {\n",
       "        text-align: right;\n",
       "    }\n",
       "</style>\n",
       "<table border=\"1\" class=\"dataframe\">\n",
       "  <thead>\n",
       "    <tr style=\"text-align: right;\">\n",
       "      <th></th>\n",
       "      <th>date</th>\n",
       "      <th>venue</th>\n",
       "      <th>team1</th>\n",
       "      <th>team2</th>\n",
       "      <th>stage</th>\n",
       "      <th>toss_winner</th>\n",
       "      <th>toss_decision</th>\n",
       "      <th>first_ings_score</th>\n",
       "      <th>first_ings_wkts</th>\n",
       "      <th>second_ings_score</th>\n",
       "      <th>second_ings_wkts</th>\n",
       "      <th>match_winner</th>\n",
       "      <th>won_by</th>\n",
       "      <th>margin</th>\n",
       "      <th>player_of_the_match</th>\n",
       "      <th>top_scorer</th>\n",
       "      <th>highscore</th>\n",
       "      <th>best_bowling</th>\n",
       "      <th>best_bowling_figure</th>\n",
       "    </tr>\n",
       "    <tr>\n",
       "      <th>match_id</th>\n",
       "      <th></th>\n",
       "      <th></th>\n",
       "      <th></th>\n",
       "      <th></th>\n",
       "      <th></th>\n",
       "      <th></th>\n",
       "      <th></th>\n",
       "      <th></th>\n",
       "      <th></th>\n",
       "      <th></th>\n",
       "      <th></th>\n",
       "      <th></th>\n",
       "      <th></th>\n",
       "      <th></th>\n",
       "      <th></th>\n",
       "      <th></th>\n",
       "      <th></th>\n",
       "      <th></th>\n",
       "      <th></th>\n",
       "    </tr>\n",
       "  </thead>\n",
       "  <tbody>\n",
       "    <tr>\n",
       "      <th>46</th>\n",
       "      <td>2022-05-01 00:00:00</td>\n",
       "      <td>Maharashtra Cricket Association Stadium,Pune</td>\n",
       "      <td>Chennai</td>\n",
       "      <td>Hyderabad</td>\n",
       "      <td>Group</td>\n",
       "      <td>Hyderabad</td>\n",
       "      <td>Field</td>\n",
       "      <td>202</td>\n",
       "      <td>2</td>\n",
       "      <td>189</td>\n",
       "      <td>6</td>\n",
       "      <td>Chennai</td>\n",
       "      <td>Runs</td>\n",
       "      <td>13</td>\n",
       "      <td>NaN</td>\n",
       "      <td>Ruturaj Gaikwad</td>\n",
       "      <td>99</td>\n",
       "      <td>Mukesh Choudhary</td>\n",
       "      <td>4--46</td>\n",
       "    </tr>\n",
       "  </tbody>\n",
       "</table>\n",
       "</div>"
      ],
      "text/plain": [
       "                         date                                         venue  \\\n",
       "match_id                                                                      \n",
       "46        2022-05-01 00:00:00  Maharashtra Cricket Association Stadium,Pune   \n",
       "\n",
       "            team1      team2  stage toss_winner toss_decision  \\\n",
       "match_id                                                        \n",
       "46        Chennai  Hyderabad  Group   Hyderabad         Field   \n",
       "\n",
       "          first_ings_score  first_ings_wkts  second_ings_score  \\\n",
       "match_id                                                         \n",
       "46                     202                2                189   \n",
       "\n",
       "          second_ings_wkts match_winner won_by  margin player_of_the_match  \\\n",
       "match_id                                                                     \n",
       "46                       6      Chennai   Runs      13                 NaN   \n",
       "\n",
       "               top_scorer  highscore      best_bowling best_bowling_figure  \n",
       "match_id                                                                    \n",
       "46        Ruturaj Gaikwad         99  Mukesh Choudhary               4--46  "
      ]
     },
     "execution_count": 7,
     "metadata": {},
     "output_type": "execute_result"
    }
   ],
   "source": [
    "ipl_22[ipl_22['player_of_the_match'].isnull()]\n",
    "## we can fill that value with topscorer.."
   ]
  },
  {
   "cell_type": "markdown",
   "id": "8d71c771",
   "metadata": {},
   "source": [
    "#### Filling NA Values "
   ]
  },
  {
   "cell_type": "code",
   "execution_count": 8,
   "id": "63f3cc07",
   "metadata": {},
   "outputs": [],
   "source": [
    "# using fillna(value) to fill any value or dropna() to remove NULL valued rows/columns.\n",
    "ipl_22.player_of_the_match.fillna('Ruturaj Gaikwad',inplace=True)"
   ]
  },
  {
   "cell_type": "code",
   "execution_count": 9,
   "id": "ee98a9c2",
   "metadata": {},
   "outputs": [
    {
     "data": {
      "text/plain": [
       "date                                            2022-05-01 00:00:00\n",
       "venue                  Maharashtra Cricket Association Stadium,Pune\n",
       "team1                                                       Chennai\n",
       "team2                                                     Hyderabad\n",
       "stage                                                         Group\n",
       "toss_winner                                               Hyderabad\n",
       "toss_decision                                                 Field\n",
       "first_ings_score                                                202\n",
       "first_ings_wkts                                                   2\n",
       "second_ings_score                                               189\n",
       "second_ings_wkts                                                  6\n",
       "match_winner                                                Chennai\n",
       "won_by                                                         Runs\n",
       "margin                                                           13\n",
       "player_of_the_match                                 Ruturaj Gaikwad\n",
       "top_scorer                                          Ruturaj Gaikwad\n",
       "highscore                                                        99\n",
       "best_bowling                                       Mukesh Choudhary\n",
       "best_bowling_figure                                           4--46\n",
       "Name: 46, dtype: object"
      ]
     },
     "execution_count": 9,
     "metadata": {},
     "output_type": "execute_result"
    }
   ],
   "source": [
    "ipl_22.iloc[45]"
   ]
  },
  {
   "cell_type": "markdown",
   "id": "b600910e",
   "metadata": {},
   "source": [
    "##   Data Cleaning\n",
    "   1. check for compatability of values in each column i.e check for data types "
   ]
  },
  {
   "cell_type": "code",
   "execution_count": 10,
   "id": "4c817e6c",
   "metadata": {},
   "outputs": [
    {
     "data": {
      "text/plain": [
       "match_id\n",
       "1     2022-03-26 00:00:00\n",
       "2     2022-03-27 00:00:00\n",
       "3     2022-03-27 00:00:00\n",
       "4     2022-03-28 00:00:00\n",
       "5     2022-03-29 00:00:00\n",
       "             ...         \n",
       "70            May 22,2022\n",
       "71            May 24,2022\n",
       "72            May 25,2022\n",
       "73            May 27,2022\n",
       "74            May 29,2022\n",
       "Name: date, Length: 74, dtype: object"
      ]
     },
     "execution_count": 10,
     "metadata": {},
     "output_type": "execute_result"
    }
   ],
   "source": [
    "ipl_22.date\n",
    "## we can see values not in a sutibale way and date is not needed cause of match id.."
   ]
  },
  {
   "cell_type": "code",
   "execution_count": 11,
   "id": "4e2ef783",
   "metadata": {},
   "outputs": [
    {
     "data": {
      "text/html": [
       "<div>\n",
       "<style scoped>\n",
       "    .dataframe tbody tr th:only-of-type {\n",
       "        vertical-align: middle;\n",
       "    }\n",
       "\n",
       "    .dataframe tbody tr th {\n",
       "        vertical-align: top;\n",
       "    }\n",
       "\n",
       "    .dataframe thead th {\n",
       "        text-align: right;\n",
       "    }\n",
       "</style>\n",
       "<table border=\"1\" class=\"dataframe\">\n",
       "  <thead>\n",
       "    <tr style=\"text-align: right;\">\n",
       "      <th></th>\n",
       "      <th>date</th>\n",
       "      <th>venue</th>\n",
       "      <th>team1</th>\n",
       "      <th>team2</th>\n",
       "      <th>stage</th>\n",
       "      <th>toss_winner</th>\n",
       "      <th>toss_decision</th>\n",
       "      <th>first_ings_score</th>\n",
       "      <th>first_ings_wkts</th>\n",
       "      <th>second_ings_score</th>\n",
       "      <th>second_ings_wkts</th>\n",
       "      <th>match_winner</th>\n",
       "      <th>won_by</th>\n",
       "      <th>margin</th>\n",
       "      <th>player_of_the_match</th>\n",
       "      <th>top_scorer</th>\n",
       "      <th>highscore</th>\n",
       "      <th>best_bowling</th>\n",
       "      <th>best_bowling_figure</th>\n",
       "    </tr>\n",
       "    <tr>\n",
       "      <th>match_id</th>\n",
       "      <th></th>\n",
       "      <th></th>\n",
       "      <th></th>\n",
       "      <th></th>\n",
       "      <th></th>\n",
       "      <th></th>\n",
       "      <th></th>\n",
       "      <th></th>\n",
       "      <th></th>\n",
       "      <th></th>\n",
       "      <th></th>\n",
       "      <th></th>\n",
       "      <th></th>\n",
       "      <th></th>\n",
       "      <th></th>\n",
       "      <th></th>\n",
       "      <th></th>\n",
       "      <th></th>\n",
       "      <th></th>\n",
       "    </tr>\n",
       "  </thead>\n",
       "  <tbody>\n",
       "    <tr>\n",
       "      <th>1</th>\n",
       "      <td>2022-03-26 00:00:00</td>\n",
       "      <td>Wankhede Stadium, Mumbai</td>\n",
       "      <td>Chennai</td>\n",
       "      <td>Kolkata</td>\n",
       "      <td>Group</td>\n",
       "      <td>Kolkata</td>\n",
       "      <td>Field</td>\n",
       "      <td>131</td>\n",
       "      <td>5</td>\n",
       "      <td>133</td>\n",
       "      <td>4</td>\n",
       "      <td>Kolkata</td>\n",
       "      <td>Wickets</td>\n",
       "      <td>6</td>\n",
       "      <td>Umesh Yadav</td>\n",
       "      <td>MS Dhoni</td>\n",
       "      <td>50</td>\n",
       "      <td>Dwayne Bravo</td>\n",
       "      <td>3--20</td>\n",
       "    </tr>\n",
       "    <tr>\n",
       "      <th>2</th>\n",
       "      <td>2022-03-27 00:00:00</td>\n",
       "      <td>Brabourne Stadium, Mumbai</td>\n",
       "      <td>Delhi</td>\n",
       "      <td>Mumbai</td>\n",
       "      <td>Group</td>\n",
       "      <td>Delhi</td>\n",
       "      <td>Field</td>\n",
       "      <td>177</td>\n",
       "      <td>5</td>\n",
       "      <td>179</td>\n",
       "      <td>6</td>\n",
       "      <td>Delhi</td>\n",
       "      <td>Wickets</td>\n",
       "      <td>4</td>\n",
       "      <td>Kuldeep Yadav</td>\n",
       "      <td>Ishan Kishan</td>\n",
       "      <td>81</td>\n",
       "      <td>Kuldeep Yadav</td>\n",
       "      <td>3--18</td>\n",
       "    </tr>\n",
       "    <tr>\n",
       "      <th>3</th>\n",
       "      <td>2022-03-27 00:00:00</td>\n",
       "      <td>Dr DY Patil Sports Academy, Mumbai</td>\n",
       "      <td>Banglore</td>\n",
       "      <td>Punjab</td>\n",
       "      <td>Group</td>\n",
       "      <td>Punjab</td>\n",
       "      <td>Field</td>\n",
       "      <td>205</td>\n",
       "      <td>2</td>\n",
       "      <td>208</td>\n",
       "      <td>5</td>\n",
       "      <td>Punjab</td>\n",
       "      <td>Wickets</td>\n",
       "      <td>5</td>\n",
       "      <td>Odean Smith</td>\n",
       "      <td>Faf du Plessis</td>\n",
       "      <td>88</td>\n",
       "      <td>Mohammed Siraj</td>\n",
       "      <td>2--59</td>\n",
       "    </tr>\n",
       "    <tr>\n",
       "      <th>4</th>\n",
       "      <td>2022-03-28 00:00:00</td>\n",
       "      <td>Wankhede Stadium, Mumbai</td>\n",
       "      <td>Gujarat</td>\n",
       "      <td>Lucknow</td>\n",
       "      <td>Group</td>\n",
       "      <td>Gujarat</td>\n",
       "      <td>Field</td>\n",
       "      <td>158</td>\n",
       "      <td>6</td>\n",
       "      <td>161</td>\n",
       "      <td>5</td>\n",
       "      <td>Gujarat</td>\n",
       "      <td>Wickets</td>\n",
       "      <td>5</td>\n",
       "      <td>Mohammed Shami</td>\n",
       "      <td>Deepak Hooda</td>\n",
       "      <td>55</td>\n",
       "      <td>Mohammed Shami</td>\n",
       "      <td>3--25</td>\n",
       "    </tr>\n",
       "    <tr>\n",
       "      <th>5</th>\n",
       "      <td>2022-03-29 00:00:00</td>\n",
       "      <td>Maharashtra Cricket Association Stadium,Pune</td>\n",
       "      <td>Hyderabad</td>\n",
       "      <td>Rajasthan</td>\n",
       "      <td>Group</td>\n",
       "      <td>Hyderabad</td>\n",
       "      <td>Field</td>\n",
       "      <td>210</td>\n",
       "      <td>6</td>\n",
       "      <td>149</td>\n",
       "      <td>7</td>\n",
       "      <td>Rajasthan</td>\n",
       "      <td>Runs</td>\n",
       "      <td>61</td>\n",
       "      <td>Sanju Samson</td>\n",
       "      <td>Aiden Markram</td>\n",
       "      <td>57</td>\n",
       "      <td>Yuzvendra Chahal</td>\n",
       "      <td>3--22</td>\n",
       "    </tr>\n",
       "  </tbody>\n",
       "</table>\n",
       "</div>"
      ],
      "text/plain": [
       "                         date                                         venue  \\\n",
       "match_id                                                                      \n",
       "1         2022-03-26 00:00:00                      Wankhede Stadium, Mumbai   \n",
       "2         2022-03-27 00:00:00                     Brabourne Stadium, Mumbai   \n",
       "3         2022-03-27 00:00:00            Dr DY Patil Sports Academy, Mumbai   \n",
       "4         2022-03-28 00:00:00                      Wankhede Stadium, Mumbai   \n",
       "5         2022-03-29 00:00:00  Maharashtra Cricket Association Stadium,Pune   \n",
       "\n",
       "              team1      team2  stage toss_winner toss_decision  \\\n",
       "match_id                                                          \n",
       "1           Chennai    Kolkata  Group     Kolkata         Field   \n",
       "2             Delhi     Mumbai  Group       Delhi         Field   \n",
       "3          Banglore     Punjab  Group      Punjab         Field   \n",
       "4           Gujarat    Lucknow  Group     Gujarat         Field   \n",
       "5         Hyderabad  Rajasthan  Group   Hyderabad         Field   \n",
       "\n",
       "          first_ings_score  first_ings_wkts  second_ings_score  \\\n",
       "match_id                                                         \n",
       "1                      131                5                133   \n",
       "2                      177                5                179   \n",
       "3                      205                2                208   \n",
       "4                      158                6                161   \n",
       "5                      210                6                149   \n",
       "\n",
       "          second_ings_wkts match_winner   won_by  margin player_of_the_match  \\\n",
       "match_id                                                                       \n",
       "1                        4      Kolkata  Wickets       6         Umesh Yadav   \n",
       "2                        6        Delhi  Wickets       4       Kuldeep Yadav   \n",
       "3                        5       Punjab  Wickets       5         Odean Smith   \n",
       "4                        5      Gujarat  Wickets       5      Mohammed Shami   \n",
       "5                        7    Rajasthan     Runs      61        Sanju Samson   \n",
       "\n",
       "              top_scorer  highscore      best_bowling best_bowling_figure  \n",
       "match_id                                                                   \n",
       "1               MS Dhoni         50      Dwayne Bravo               3--20  \n",
       "2           Ishan Kishan         81     Kuldeep Yadav               3--18  \n",
       "3         Faf du Plessis         88    Mohammed Siraj               2--59  \n",
       "4           Deepak Hooda         55    Mohammed Shami               3--25  \n",
       "5          Aiden Markram         57  Yuzvendra Chahal               3--22  "
      ]
     },
     "execution_count": 11,
     "metadata": {},
     "output_type": "execute_result"
    }
   ],
   "source": [
    "ipl_22.head(5)"
   ]
  },
  {
   "cell_type": "code",
   "execution_count": 12,
   "id": "267232c3",
   "metadata": {},
   "outputs": [
    {
     "data": {
      "text/html": [
       "<div>\n",
       "<style scoped>\n",
       "    .dataframe tbody tr th:only-of-type {\n",
       "        vertical-align: middle;\n",
       "    }\n",
       "\n",
       "    .dataframe tbody tr th {\n",
       "        vertical-align: top;\n",
       "    }\n",
       "\n",
       "    .dataframe thead th {\n",
       "        text-align: right;\n",
       "    }\n",
       "</style>\n",
       "<table border=\"1\" class=\"dataframe\">\n",
       "  <thead>\n",
       "    <tr style=\"text-align: right;\">\n",
       "      <th></th>\n",
       "      <th>date</th>\n",
       "      <th>venue</th>\n",
       "      <th>team1</th>\n",
       "      <th>team2</th>\n",
       "      <th>stage</th>\n",
       "      <th>toss_winner</th>\n",
       "      <th>toss_decision</th>\n",
       "      <th>first_ings_score</th>\n",
       "      <th>first_ings_wkts</th>\n",
       "      <th>second_ings_score</th>\n",
       "      <th>second_ings_wkts</th>\n",
       "      <th>match_winner</th>\n",
       "      <th>won_by</th>\n",
       "      <th>margin</th>\n",
       "      <th>player_of_the_match</th>\n",
       "      <th>top_scorer</th>\n",
       "      <th>highscore</th>\n",
       "      <th>best_bowling</th>\n",
       "      <th>best_bowling_figure</th>\n",
       "    </tr>\n",
       "    <tr>\n",
       "      <th>match_id</th>\n",
       "      <th></th>\n",
       "      <th></th>\n",
       "      <th></th>\n",
       "      <th></th>\n",
       "      <th></th>\n",
       "      <th></th>\n",
       "      <th></th>\n",
       "      <th></th>\n",
       "      <th></th>\n",
       "      <th></th>\n",
       "      <th></th>\n",
       "      <th></th>\n",
       "      <th></th>\n",
       "      <th></th>\n",
       "      <th></th>\n",
       "      <th></th>\n",
       "      <th></th>\n",
       "      <th></th>\n",
       "      <th></th>\n",
       "    </tr>\n",
       "  </thead>\n",
       "  <tbody>\n",
       "    <tr>\n",
       "      <th>70</th>\n",
       "      <td>May 22,2022</td>\n",
       "      <td>Wankhede Stadium, Mumbai</td>\n",
       "      <td>Hyderabad</td>\n",
       "      <td>Punjab</td>\n",
       "      <td>Group</td>\n",
       "      <td>Hyderabad</td>\n",
       "      <td>Bat</td>\n",
       "      <td>157</td>\n",
       "      <td>8</td>\n",
       "      <td>160</td>\n",
       "      <td>5</td>\n",
       "      <td>Punjab</td>\n",
       "      <td>Wickets</td>\n",
       "      <td>5</td>\n",
       "      <td>Harpreet Brar</td>\n",
       "      <td>Liam Livingstone</td>\n",
       "      <td>49</td>\n",
       "      <td>Harpreet Brar</td>\n",
       "      <td>3--26</td>\n",
       "    </tr>\n",
       "    <tr>\n",
       "      <th>71</th>\n",
       "      <td>May 24,2022</td>\n",
       "      <td>Eden Gardens, Kolkata</td>\n",
       "      <td>Gujarat</td>\n",
       "      <td>Rajasthan</td>\n",
       "      <td>Playoff</td>\n",
       "      <td>Gujarat</td>\n",
       "      <td>Field</td>\n",
       "      <td>188</td>\n",
       "      <td>6</td>\n",
       "      <td>191</td>\n",
       "      <td>3</td>\n",
       "      <td>Gujarat</td>\n",
       "      <td>Wickets</td>\n",
       "      <td>7</td>\n",
       "      <td>David Miller</td>\n",
       "      <td>Jos Buttler</td>\n",
       "      <td>89</td>\n",
       "      <td>Hardik Pandya</td>\n",
       "      <td>1--14</td>\n",
       "    </tr>\n",
       "    <tr>\n",
       "      <th>72</th>\n",
       "      <td>May 25,2022</td>\n",
       "      <td>Eden Gardens, Kolkata</td>\n",
       "      <td>Banglore</td>\n",
       "      <td>Lucknow</td>\n",
       "      <td>Playoff</td>\n",
       "      <td>Lucknow</td>\n",
       "      <td>Field</td>\n",
       "      <td>207</td>\n",
       "      <td>4</td>\n",
       "      <td>193</td>\n",
       "      <td>6</td>\n",
       "      <td>Banglore</td>\n",
       "      <td>Runs</td>\n",
       "      <td>14</td>\n",
       "      <td>Rajat Patidar</td>\n",
       "      <td>Rajat Patidar</td>\n",
       "      <td>112</td>\n",
       "      <td>Josh Hazlewood</td>\n",
       "      <td>3--43</td>\n",
       "    </tr>\n",
       "    <tr>\n",
       "      <th>73</th>\n",
       "      <td>May 27,2022</td>\n",
       "      <td>Narendra Modi Stadium, Ahmedabad</td>\n",
       "      <td>Banglore</td>\n",
       "      <td>Rajasthan</td>\n",
       "      <td>Playoff</td>\n",
       "      <td>Rajasthan</td>\n",
       "      <td>Field</td>\n",
       "      <td>157</td>\n",
       "      <td>8</td>\n",
       "      <td>161</td>\n",
       "      <td>3</td>\n",
       "      <td>Rajasthan</td>\n",
       "      <td>Wickets</td>\n",
       "      <td>7</td>\n",
       "      <td>Jos Buttler</td>\n",
       "      <td>Jos Buttler</td>\n",
       "      <td>106</td>\n",
       "      <td>Prasidh Krishna</td>\n",
       "      <td>3--22</td>\n",
       "    </tr>\n",
       "    <tr>\n",
       "      <th>74</th>\n",
       "      <td>May 29,2022</td>\n",
       "      <td>Narendra Modi Stadium, Ahmedabad</td>\n",
       "      <td>Gujarat</td>\n",
       "      <td>Rajasthan</td>\n",
       "      <td>Final</td>\n",
       "      <td>Rajasthan</td>\n",
       "      <td>Bat</td>\n",
       "      <td>130</td>\n",
       "      <td>9</td>\n",
       "      <td>133</td>\n",
       "      <td>3</td>\n",
       "      <td>Gujarat</td>\n",
       "      <td>Wickets</td>\n",
       "      <td>7</td>\n",
       "      <td>Hardik Pandya</td>\n",
       "      <td>Shubman Gill</td>\n",
       "      <td>45</td>\n",
       "      <td>Hardik Pandya</td>\n",
       "      <td>3--17</td>\n",
       "    </tr>\n",
       "  </tbody>\n",
       "</table>\n",
       "</div>"
      ],
      "text/plain": [
       "                 date                             venue      team1      team2  \\\n",
       "match_id                                                                        \n",
       "70        May 22,2022          Wankhede Stadium, Mumbai  Hyderabad     Punjab   \n",
       "71        May 24,2022             Eden Gardens, Kolkata    Gujarat  Rajasthan   \n",
       "72        May 25,2022             Eden Gardens, Kolkata   Banglore    Lucknow   \n",
       "73        May 27,2022  Narendra Modi Stadium, Ahmedabad   Banglore  Rajasthan   \n",
       "74        May 29,2022  Narendra Modi Stadium, Ahmedabad    Gujarat  Rajasthan   \n",
       "\n",
       "            stage toss_winner toss_decision  first_ings_score  \\\n",
       "match_id                                                        \n",
       "70          Group   Hyderabad           Bat               157   \n",
       "71        Playoff     Gujarat         Field               188   \n",
       "72        Playoff     Lucknow         Field               207   \n",
       "73        Playoff   Rajasthan         Field               157   \n",
       "74          Final   Rajasthan           Bat               130   \n",
       "\n",
       "          first_ings_wkts  second_ings_score  second_ings_wkts match_winner  \\\n",
       "match_id                                                                      \n",
       "70                      8                160                 5       Punjab   \n",
       "71                      6                191                 3      Gujarat   \n",
       "72                      4                193                 6     Banglore   \n",
       "73                      8                161                 3    Rajasthan   \n",
       "74                      9                133                 3      Gujarat   \n",
       "\n",
       "           won_by  margin player_of_the_match        top_scorer  highscore  \\\n",
       "match_id                                                                     \n",
       "70        Wickets       5       Harpreet Brar  Liam Livingstone         49   \n",
       "71        Wickets       7        David Miller       Jos Buttler         89   \n",
       "72           Runs      14       Rajat Patidar     Rajat Patidar        112   \n",
       "73        Wickets       7         Jos Buttler       Jos Buttler        106   \n",
       "74        Wickets       7       Hardik Pandya      Shubman Gill         45   \n",
       "\n",
       "             best_bowling best_bowling_figure  \n",
       "match_id                                       \n",
       "70          Harpreet Brar               3--26  \n",
       "71          Hardik Pandya               1--14  \n",
       "72         Josh Hazlewood               3--43  \n",
       "73        Prasidh Krishna               3--22  \n",
       "74          Hardik Pandya               3--17  "
      ]
     },
     "execution_count": 12,
     "metadata": {},
     "output_type": "execute_result"
    }
   ],
   "source": [
    "ipl_22.tail(5)"
   ]
  },
  {
   "cell_type": "code",
   "execution_count": 13,
   "id": "6a4db80c",
   "metadata": {},
   "outputs": [],
   "source": [
    "# drop date because it is in two different formats\n",
    "ipl_22.drop('date',axis=1,inplace=True)"
   ]
  },
  {
   "cell_type": "markdown",
   "id": "9d6fa7eb",
   "metadata": {},
   "source": [
    "## Step-4 : Ask Questions about Data"
   ]
  },
  {
   "cell_type": "code",
   "execution_count": 14,
   "id": "0aeb109d",
   "metadata": {},
   "outputs": [
    {
     "data": {
      "image/png": "[encoded data removed]",
      "text/plain": [
       "<Figure size 432x288 with 1 Axes>"
      ]
     },
     "metadata": {
      "needs_background": "light"
     },
     "output_type": "display_data"
    }
   ],
   "source": [
    "## venues and match count\n",
    "ipl_22['venue'].value_counts().plot(kind='bar',color='g')\n",
    "plt.title(\"Total Venues Count\",fontweight='bold')\n",
    "plt.show()"
   ]
  },
  {
   "cell_type": "code",
   "execution_count": 15,
   "id": "8c1c4b97",
   "metadata": {},
   "outputs": [
    {
     "data": {
      "image/png": "[encoded data removed]",
      "text/plain": [
       "<Figure size 432x288 with 1 Axes>"
      ]
     },
     "metadata": {
      "needs_background": "light"
     },
     "output_type": "display_data"
    }
   ],
   "source": [
    "ipl_22['toss_winner'].value_counts().plot(kind='bar',color='b',alpha=0.7)\n",
    "plt.xlabel(\"Teams\")\n",
    "plt.ylabel(\"Count\")\n",
    "plt.title(\"Distribution of Toss Winners\",fontweight='bold')\n",
    "plt.xlabel(\"Teams\")\n",
    "plt.show()"
   ]
  },
  {
   "cell_type": "code",
   "execution_count": 16,
   "id": "c2cb074b",
   "metadata": {},
   "outputs": [
    {
     "data": {
      "image/png": "[encoded data removed]",
      "text/plain": [
       "<Figure size 432x288 with 1 Axes>"
      ]
     },
     "metadata": {
      "needs_background": "light"
     },
     "output_type": "display_data"
    }
   ],
   "source": [
    "## Toss Decision..\n",
    "toss=ipl_22['toss_decision'].value_counts()\n",
    "\n",
    "ax=toss.plot(kind='bar',color=['b','g'])\n",
    "plt.title(\" Toss Decision \")\n",
    "plt.show()"
   ]
  },
  {
   "cell_type": "code",
   "execution_count": 17,
   "id": "71ee5009",
   "metadata": {},
   "outputs": [
    {
     "data": {
      "image/png": "[encoded data removed]",
      "text/plain": [
       "<Figure size 432x288 with 1 Axes>"
      ]
     },
     "metadata": {
      "needs_background": "light"
     },
     "output_type": "display_data"
    }
   ],
   "source": [
    "# Get Toss Winner vs Match winner ..\n",
    "\n",
    "TW_W=len(ipl_22.query('toss_winner==match_winner'))\n",
    "\n",
    "data=[[TW_W,76-TW_W]]\n",
    "df=pd.DataFrame(data,columns=['Toss Winner to Match winner','Toss losser to Match winner'])\n",
    "df.plot(kind='bar')\n",
    "plt.title(\"Toss Winner vs Match Winner\")\n",
    "plt.legend(loc='lower left')\n",
    "plt.show()"
   ]
  },
  {
   "cell_type": "code",
   "execution_count": 18,
   "id": "b2bbcc11",
   "metadata": {},
   "outputs": [],
   "source": [
    "#\n",
    "ipl_22['first_bat']=np.where(ipl_22['toss_decision']=='Bat', ipl_22['toss_winner'],\n",
    "                             np.where(ipl_22['toss_winner']==ipl_22['team1'],ipl_22.team2,ipl_22.team1))\n",
    "ipl_22['second_bat']=np.where(ipl_22['toss_decision']=='Field',ipl_22['toss_winner'],\n",
    "                              np.where(ipl_22['toss_winner']==ipl_22['team1'],ipl_22.team2,ipl_22.team1),\n",
    "                              )"
   ]
  },
  {
   "cell_type": "code",
   "execution_count": 19,
   "id": "ca707c3a",
   "metadata": {},
   "outputs": [
    {
     "data": {
      "text/html": [
       "<div>\n",
       "<style scoped>\n",
       "    .dataframe tbody tr th:only-of-type {\n",
       "        vertical-align: middle;\n",
       "    }\n",
       "\n",
       "    .dataframe tbody tr th {\n",
       "        vertical-align: top;\n",
       "    }\n",
       "\n",
       "    .dataframe thead th {\n",
       "        text-align: right;\n",
       "    }\n",
       "</style>\n",
       "<table border=\"1\" class=\"dataframe\">\n",
       "  <thead>\n",
       "    <tr style=\"text-align: right;\">\n",
       "      <th></th>\n",
       "      <th>toss_winner</th>\n",
       "      <th>toss_decision</th>\n",
       "      <th>match_winner</th>\n",
       "      <th>first_bat</th>\n",
       "      <th>second_bat</th>\n",
       "    </tr>\n",
       "    <tr>\n",
       "      <th>match_id</th>\n",
       "      <th></th>\n",
       "      <th></th>\n",
       "      <th></th>\n",
       "      <th></th>\n",
       "      <th></th>\n",
       "    </tr>\n",
       "  </thead>\n",
       "  <tbody>\n",
       "    <tr>\n",
       "      <th>1</th>\n",
       "      <td>Kolkata</td>\n",
       "      <td>Field</td>\n",
       "      <td>Kolkata</td>\n",
       "      <td>Chennai</td>\n",
       "      <td>Kolkata</td>\n",
       "    </tr>\n",
       "    <tr>\n",
       "      <th>2</th>\n",
       "      <td>Delhi</td>\n",
       "      <td>Field</td>\n",
       "      <td>Delhi</td>\n",
       "      <td>Mumbai</td>\n",
       "      <td>Delhi</td>\n",
       "    </tr>\n",
       "    <tr>\n",
       "      <th>3</th>\n",
       "      <td>Punjab</td>\n",
       "      <td>Field</td>\n",
       "      <td>Punjab</td>\n",
       "      <td>Banglore</td>\n",
       "      <td>Punjab</td>\n",
       "    </tr>\n",
       "    <tr>\n",
       "      <th>4</th>\n",
       "      <td>Gujarat</td>\n",
       "      <td>Field</td>\n",
       "      <td>Gujarat</td>\n",
       "      <td>Lucknow</td>\n",
       "      <td>Gujarat</td>\n",
       "    </tr>\n",
       "    <tr>\n",
       "      <th>5</th>\n",
       "      <td>Hyderabad</td>\n",
       "      <td>Field</td>\n",
       "      <td>Rajasthan</td>\n",
       "      <td>Rajasthan</td>\n",
       "      <td>Hyderabad</td>\n",
       "    </tr>\n",
       "    <tr>\n",
       "      <th>...</th>\n",
       "      <td>...</td>\n",
       "      <td>...</td>\n",
       "      <td>...</td>\n",
       "      <td>...</td>\n",
       "      <td>...</td>\n",
       "    </tr>\n",
       "    <tr>\n",
       "      <th>70</th>\n",
       "      <td>Hyderabad</td>\n",
       "      <td>Bat</td>\n",
       "      <td>Punjab</td>\n",
       "      <td>Hyderabad</td>\n",
       "      <td>Punjab</td>\n",
       "    </tr>\n",
       "    <tr>\n",
       "      <th>71</th>\n",
       "      <td>Gujarat</td>\n",
       "      <td>Field</td>\n",
       "      <td>Gujarat</td>\n",
       "      <td>Rajasthan</td>\n",
       "      <td>Gujarat</td>\n",
       "    </tr>\n",
       "    <tr>\n",
       "      <th>72</th>\n",
       "      <td>Lucknow</td>\n",
       "      <td>Field</td>\n",
       "      <td>Banglore</td>\n",
       "      <td>Banglore</td>\n",
       "      <td>Lucknow</td>\n",
       "    </tr>\n",
       "    <tr>\n",
       "      <th>73</th>\n",
       "      <td>Rajasthan</td>\n",
       "      <td>Field</td>\n",
       "      <td>Rajasthan</td>\n",
       "      <td>Banglore</td>\n",
       "      <td>Rajasthan</td>\n",
       "    </tr>\n",
       "    <tr>\n",
       "      <th>74</th>\n",
       "      <td>Rajasthan</td>\n",
       "      <td>Bat</td>\n",
       "      <td>Gujarat</td>\n",
       "      <td>Rajasthan</td>\n",
       "      <td>Gujarat</td>\n",
       "    </tr>\n",
       "  </tbody>\n",
       "</table>\n",
       "<p>74 rows × 5 columns</p>\n",
       "</div>"
      ],
      "text/plain": [
       "         toss_winner toss_decision match_winner  first_bat second_bat\n",
       "match_id                                                             \n",
       "1            Kolkata         Field      Kolkata    Chennai    Kolkata\n",
       "2              Delhi         Field        Delhi     Mumbai      Delhi\n",
       "3             Punjab         Field       Punjab   Banglore     Punjab\n",
       "4            Gujarat         Field      Gujarat    Lucknow    Gujarat\n",
       "5          Hyderabad         Field    Rajasthan  Rajasthan  Hyderabad\n",
       "...              ...           ...          ...        ...        ...\n",
       "70         Hyderabad           Bat       Punjab  Hyderabad     Punjab\n",
       "71           Gujarat         Field      Gujarat  Rajasthan    Gujarat\n",
       "72           Lucknow         Field     Banglore   Banglore    Lucknow\n",
       "73         Rajasthan         Field    Rajasthan   Banglore  Rajasthan\n",
       "74         Rajasthan           Bat      Gujarat  Rajasthan    Gujarat\n",
       "\n",
       "[74 rows x 5 columns]"
      ]
     },
     "execution_count": 19,
     "metadata": {},
     "output_type": "execute_result"
    }
   ],
   "source": [
    "df=ipl_22.filter(items=['toss_winner','toss_decision','match_winner','first_bat','second_bat'])\n",
    "first_bat_wins=len(df[df['match_winner']==df['first_bat']])\n",
    "second_bat_wins=len(df[df['match_winner']==df['second_bat']])\n",
    "df"
   ]
  },
  {
   "cell_type": "markdown",
   "id": "55a089c1",
   "metadata": {},
   "source": [
    "## let's see how toss decision gone in favour of result. "
   ]
  },
  {
   "cell_type": "code",
   "execution_count": 20,
   "id": "0adb801f",
   "metadata": {},
   "outputs": [
    {
     "data": {
      "image/png": "[encoded data removed]",
      "text/plain": [
       "<Figure size 432x288 with 1 Axes>"
      ]
     },
     "metadata": {
      "needs_background": "light"
     },
     "output_type": "display_data"
    }
   ],
   "source": [
    "## field\n",
    "\n",
    "field=ipl_22[ipl_22['toss_decision']=='Field']\n",
    "field_favour=field.query('match_winner == toss_winner')\n",
    "\n",
    "## batting\n",
    "\n",
    "bat=ipl_22[ipl_22['toss_decision']=='Bat']\n",
    "bat_favour=bat.query('match_winner == toss_winner')\n",
    "\n",
    "data=pd.DataFrame([[len(bat_favour),len(bat)],[len(field_favour),len(field)]],columns=['win','total'],index=['bat','field'])\n",
    "data.plot(kind='bar',color=['g','b'])\n",
    "plt.title(\"Toss decision gone in favour of result\")\n",
    "plt.show()"
   ]
  },
  {
   "cell_type": "code",
   "execution_count": 21,
   "id": "2b6badae",
   "metadata": {},
   "outputs": [
    {
     "data": {
      "text/plain": [
       "<AxesSubplot:xlabel='first_bat', ylabel='count'>"
      ]
     },
     "execution_count": 21,
     "metadata": {},
     "output_type": "execute_result"
    },
    {
     "data": {
      "image/png": "[encoded data removed]",
      "text/plain": [
       "<Figure size 864x216 with 1 Axes>"
      ]
     },
     "metadata": {
      "needs_background": "light"
     },
     "output_type": "display_data"
    }
   ],
   "source": [
    "## count of Teams which are batting first..\n",
    "plt.figure(figsize=(12,3))\n",
    "sns.countplot(x=\"first_bat\",data=ipl_22)"
   ]
  },
  {
   "cell_type": "code",
   "execution_count": 22,
   "id": "ee4dc464",
   "metadata": {},
   "outputs": [
    {
     "data": {
      "text/plain": [
       "<AxesSubplot:xlabel='second_bat', ylabel='count'>"
      ]
     },
     "execution_count": 22,
     "metadata": {},
     "output_type": "execute_result"
    },
    {
     "data": {
      "image/png": "[encoded data removed]",
      "text/plain": [
       "<Figure size 864x216 with 1 Axes>"
      ]
     },
     "metadata": {
      "needs_background": "light"
     },
     "output_type": "display_data"
    }
   ],
   "source": [
    "## count of teams batting second\n",
    "plt.figure(figsize=(12,3))\n",
    "sns.countplot(x=\"second_bat\",data=df)"
   ]
  },
  {
   "cell_type": "code",
   "execution_count": 23,
   "id": "c7a3a195",
   "metadata": {},
   "outputs": [
    {
     "data": {
      "text/plain": [
       "<AxesSubplot:ylabel='venue,match_winner'>"
      ]
     },
     "execution_count": 23,
     "metadata": {},
     "output_type": "execute_result"
    },
    {
     "data": {
      "image/png": "[encoded data removed]",
      "text/plain": [
       "<Figure size 936x792 with 1 Axes>"
      ]
     },
     "metadata": {
      "needs_background": "light"
     },
     "output_type": "display_data"
    }
   ],
   "source": [
    "## teams_wins according to venues\n",
    "t=ipl_22[['venue','match_winner']]\n",
    "x=t.value_counts()\n",
    "plt.figure(figsize=(13,11))\n",
    "x.plot(kind='barh',color='#0000FF',alpha=0.7)"
   ]
  },
  {
   "cell_type": "code",
   "execution_count": 24,
   "id": "a2ac36bc",
   "metadata": {},
   "outputs": [
    {
     "data": {
      "text/html": [
       "<div>\n",
       "<style scoped>\n",
       "    .dataframe tbody tr th:only-of-type {\n",
       "        vertical-align: middle;\n",
       "    }\n",
       "\n",
       "    .dataframe tbody tr th {\n",
       "        vertical-align: top;\n",
       "    }\n",
       "\n",
       "    .dataframe thead th {\n",
       "        text-align: right;\n",
       "    }\n",
       "</style>\n",
       "<table border=\"1\" class=\"dataframe\">\n",
       "  <thead>\n",
       "    <tr style=\"text-align: right;\">\n",
       "      <th></th>\n",
       "      <th>won_by</th>\n",
       "      <th>Runs</th>\n",
       "      <th>Wickets</th>\n",
       "    </tr>\n",
       "  </thead>\n",
       "  <tbody>\n",
       "    <tr>\n",
       "      <th rowspan=\"8\" valign=\"top\">first_ings_score</th>\n",
       "      <th>count</th>\n",
       "      <td>37.000000</td>\n",
       "      <td>37.000000</td>\n",
       "    </tr>\n",
       "    <tr>\n",
       "      <th>mean</th>\n",
       "      <td>186.405405</td>\n",
       "      <td>155.837838</td>\n",
       "    </tr>\n",
       "    <tr>\n",
       "      <th>std</th>\n",
       "      <td>21.337837</td>\n",
       "      <td>27.849310</td>\n",
       "    </tr>\n",
       "    <tr>\n",
       "      <th>min</th>\n",
       "      <td>144.000000</td>\n",
       "      <td>68.000000</td>\n",
       "    </tr>\n",
       "    <tr>\n",
       "      <th>25%</th>\n",
       "      <td>171.000000</td>\n",
       "      <td>146.000000</td>\n",
       "    </tr>\n",
       "    <tr>\n",
       "      <th>50%</th>\n",
       "      <td>189.000000</td>\n",
       "      <td>157.000000</td>\n",
       "    </tr>\n",
       "    <tr>\n",
       "      <th>75%</th>\n",
       "      <td>207.000000</td>\n",
       "      <td>169.000000</td>\n",
       "    </tr>\n",
       "    <tr>\n",
       "      <th>max</th>\n",
       "      <td>222.000000</td>\n",
       "      <td>210.000000</td>\n",
       "    </tr>\n",
       "    <tr>\n",
       "      <th rowspan=\"8\" valign=\"top\">first_ings_wkts</th>\n",
       "      <th>count</th>\n",
       "      <td>37.000000</td>\n",
       "      <td>37.000000</td>\n",
       "    </tr>\n",
       "    <tr>\n",
       "      <th>mean</th>\n",
       "      <td>5.540541</td>\n",
       "      <td>6.729730</td>\n",
       "    </tr>\n",
       "    <tr>\n",
       "      <th>std</th>\n",
       "      <td>2.142099</td>\n",
       "      <td>2.168572</td>\n",
       "    </tr>\n",
       "    <tr>\n",
       "      <th>min</th>\n",
       "      <td>0.000000</td>\n",
       "      <td>2.000000</td>\n",
       "    </tr>\n",
       "    <tr>\n",
       "      <th>25%</th>\n",
       "      <td>4.000000</td>\n",
       "      <td>5.000000</td>\n",
       "    </tr>\n",
       "    <tr>\n",
       "      <th>50%</th>\n",
       "      <td>6.000000</td>\n",
       "      <td>6.000000</td>\n",
       "    </tr>\n",
       "    <tr>\n",
       "      <th>75%</th>\n",
       "      <td>7.000000</td>\n",
       "      <td>8.000000</td>\n",
       "    </tr>\n",
       "    <tr>\n",
       "      <th>max</th>\n",
       "      <td>9.000000</td>\n",
       "      <td>10.000000</td>\n",
       "    </tr>\n",
       "    <tr>\n",
       "      <th rowspan=\"8\" valign=\"top\">second_ings_score</th>\n",
       "      <th>count</th>\n",
       "      <td>37.000000</td>\n",
       "      <td>37.000000</td>\n",
       "    </tr>\n",
       "    <tr>\n",
       "      <th>mean</th>\n",
       "      <td>158.459459</td>\n",
       "      <td>158.621622</td>\n",
       "    </tr>\n",
       "    <tr>\n",
       "      <th>std</th>\n",
       "      <td>31.572311</td>\n",
       "      <td>27.274684</td>\n",
       "    </tr>\n",
       "    <tr>\n",
       "      <th>min</th>\n",
       "      <td>82.000000</td>\n",
       "      <td>72.000000</td>\n",
       "    </tr>\n",
       "    <tr>\n",
       "      <th>25%</th>\n",
       "      <td>133.000000</td>\n",
       "      <td>150.000000</td>\n",
       "    </tr>\n",
       "    <tr>\n",
       "      <th>50%</th>\n",
       "      <td>160.000000</td>\n",
       "      <td>160.000000</td>\n",
       "    </tr>\n",
       "    <tr>\n",
       "      <th>75%</th>\n",
       "      <td>186.000000</td>\n",
       "      <td>173.000000</td>\n",
       "    </tr>\n",
       "    <tr>\n",
       "      <th>max</th>\n",
       "      <td>210.000000</td>\n",
       "      <td>211.000000</td>\n",
       "    </tr>\n",
       "    <tr>\n",
       "      <th rowspan=\"8\" valign=\"top\">second_ings_wkts</th>\n",
       "      <th>count</th>\n",
       "      <td>37.000000</td>\n",
       "      <td>37.000000</td>\n",
       "    </tr>\n",
       "    <tr>\n",
       "      <th>mean</th>\n",
       "      <td>8.351351</td>\n",
       "      <td>4.000000</td>\n",
       "    </tr>\n",
       "    <tr>\n",
       "      <th>std</th>\n",
       "      <td>1.337830</td>\n",
       "      <td>1.615893</td>\n",
       "    </tr>\n",
       "    <tr>\n",
       "      <th>min</th>\n",
       "      <td>5.000000</td>\n",
       "      <td>1.000000</td>\n",
       "    </tr>\n",
       "    <tr>\n",
       "      <th>25%</th>\n",
       "      <td>8.000000</td>\n",
       "      <td>3.000000</td>\n",
       "    </tr>\n",
       "    <tr>\n",
       "      <th>50%</th>\n",
       "      <td>8.000000</td>\n",
       "      <td>4.000000</td>\n",
       "    </tr>\n",
       "    <tr>\n",
       "      <th>75%</th>\n",
       "      <td>9.000000</td>\n",
       "      <td>5.000000</td>\n",
       "    </tr>\n",
       "    <tr>\n",
       "      <th>max</th>\n",
       "      <td>10.000000</td>\n",
       "      <td>7.000000</td>\n",
       "    </tr>\n",
       "    <tr>\n",
       "      <th rowspan=\"8\" valign=\"top\">margin</th>\n",
       "      <th>count</th>\n",
       "      <td>37.000000</td>\n",
       "      <td>37.000000</td>\n",
       "    </tr>\n",
       "    <tr>\n",
       "      <th>mean</th>\n",
       "      <td>27.945946</td>\n",
       "      <td>6.000000</td>\n",
       "    </tr>\n",
       "    <tr>\n",
       "      <th>std</th>\n",
       "      <td>23.085525</td>\n",
       "      <td>1.615893</td>\n",
       "    </tr>\n",
       "    <tr>\n",
       "      <th>min</th>\n",
       "      <td>2.000000</td>\n",
       "      <td>3.000000</td>\n",
       "    </tr>\n",
       "    <tr>\n",
       "      <th>25%</th>\n",
       "      <td>12.000000</td>\n",
       "      <td>5.000000</td>\n",
       "    </tr>\n",
       "    <tr>\n",
       "      <th>50%</th>\n",
       "      <td>18.000000</td>\n",
       "      <td>6.000000</td>\n",
       "    </tr>\n",
       "    <tr>\n",
       "      <th>75%</th>\n",
       "      <td>44.000000</td>\n",
       "      <td>7.000000</td>\n",
       "    </tr>\n",
       "    <tr>\n",
       "      <th>max</th>\n",
       "      <td>91.000000</td>\n",
       "      <td>9.000000</td>\n",
       "    </tr>\n",
       "    <tr>\n",
       "      <th rowspan=\"8\" valign=\"top\">highscore</th>\n",
       "      <th>count</th>\n",
       "      <td>37.000000</td>\n",
       "      <td>37.000000</td>\n",
       "    </tr>\n",
       "    <tr>\n",
       "      <th>mean</th>\n",
       "      <td>77.216216</td>\n",
       "      <td>66.216216</td>\n",
       "    </tr>\n",
       "    <tr>\n",
       "      <th>std</th>\n",
       "      <td>22.331014</td>\n",
       "      <td>17.562800</td>\n",
       "    </tr>\n",
       "    <tr>\n",
       "      <th>min</th>\n",
       "      <td>46.000000</td>\n",
       "      <td>28.000000</td>\n",
       "    </tr>\n",
       "    <tr>\n",
       "      <th>25%</th>\n",
       "      <td>59.000000</td>\n",
       "      <td>55.000000</td>\n",
       "    </tr>\n",
       "    <tr>\n",
       "      <th>50%</th>\n",
       "      <td>70.000000</td>\n",
       "      <td>67.000000</td>\n",
       "    </tr>\n",
       "    <tr>\n",
       "      <th>75%</th>\n",
       "      <td>95.000000</td>\n",
       "      <td>75.000000</td>\n",
       "    </tr>\n",
       "    <tr>\n",
       "      <th>max</th>\n",
       "      <td>140.000000</td>\n",
       "      <td>106.000000</td>\n",
       "    </tr>\n",
       "  </tbody>\n",
       "</table>\n",
       "</div>"
      ],
      "text/plain": [
       "won_by                         Runs     Wickets\n",
       "first_ings_score  count   37.000000   37.000000\n",
       "                  mean   186.405405  155.837838\n",
       "                  std     21.337837   27.849310\n",
       "                  min    144.000000   68.000000\n",
       "                  25%    171.000000  146.000000\n",
       "                  50%    189.000000  157.000000\n",
       "                  75%    207.000000  169.000000\n",
       "                  max    222.000000  210.000000\n",
       "first_ings_wkts   count   37.000000   37.000000\n",
       "                  mean     5.540541    6.729730\n",
       "                  std      2.142099    2.168572\n",
       "                  min      0.000000    2.000000\n",
       "                  25%      4.000000    5.000000\n",
       "                  50%      6.000000    6.000000\n",
       "                  75%      7.000000    8.000000\n",
       "                  max      9.000000   10.000000\n",
       "second_ings_score count   37.000000   37.000000\n",
       "                  mean   158.459459  158.621622\n",
       "                  std     31.572311   27.274684\n",
       "                  min     82.000000   72.000000\n",
       "                  25%    133.000000  150.000000\n",
       "                  50%    160.000000  160.000000\n",
       "                  75%    186.000000  173.000000\n",
       "                  max    210.000000  211.000000\n",
       "second_ings_wkts  count   37.000000   37.000000\n",
       "                  mean     8.351351    4.000000\n",
       "                  std      1.337830    1.615893\n",
       "                  min      5.000000    1.000000\n",
       "                  25%      8.000000    3.000000\n",
       "                  50%      8.000000    4.000000\n",
       "                  75%      9.000000    5.000000\n",
       "                  max     10.000000    7.000000\n",
       "margin            count   37.000000   37.000000\n",
       "                  mean    27.945946    6.000000\n",
       "                  std     23.085525    1.615893\n",
       "                  min      2.000000    3.000000\n",
       "                  25%     12.000000    5.000000\n",
       "                  50%     18.000000    6.000000\n",
       "                  75%     44.000000    7.000000\n",
       "                  max     91.000000    9.000000\n",
       "highscore         count   37.000000   37.000000\n",
       "                  mean    77.216216   66.216216\n",
       "                  std     22.331014   17.562800\n",
       "                  min     46.000000   28.000000\n",
       "                  25%     59.000000   55.000000\n",
       "                  50%     70.000000   67.000000\n",
       "                  75%     95.000000   75.000000\n",
       "                  max    140.000000  106.000000"
      ]
     },
     "execution_count": 24,
     "metadata": {},
     "output_type": "execute_result"
    }
   ],
   "source": [
    "## descriptive stats \n",
    "ipl_22.groupby('won_by').describe().transpose()"
   ]
  },
  {
   "cell_type": "markdown",
   "id": "7297a55a",
   "metadata": {},
   "source": [
    "### Target to defend "
   ]
  },
  {
   "cell_type": "code",
   "execution_count": 25,
   "id": "18c114e3",
   "metadata": {},
   "outputs": [
    {
     "data": {
      "text/plain": [
       "<AxesSubplot:>"
      ]
     },
     "execution_count": 25,
     "metadata": {},
     "output_type": "execute_result"
    },
    {
     "data": {
      "image/png": "[encoded data removed]",
      "text/plain": [
       "<Figure size 432x288 with 1 Axes>"
      ]
     },
     "metadata": {
      "needs_background": "light"
     },
     "output_type": "display_data"
    }
   ],
   "source": [
    "ipl_22.query('match_winner==first_bat').first_ings_score.plot(kind='box')\n",
    "## It describes First ings score b/w 170 to 208 ensures defending safe target ..."
   ]
  },
  {
   "cell_type": "markdown",
   "id": "a1f61166",
   "metadata": {},
   "source": [
    "### Target for a comfortable chasing"
   ]
  },
  {
   "cell_type": "code",
   "execution_count": 26,
   "id": "c5beda09",
   "metadata": {},
   "outputs": [
    {
     "data": {
      "text/plain": [
       "<AxesSubplot:>"
      ]
     },
     "execution_count": 26,
     "metadata": {},
     "output_type": "execute_result"
    },
    {
     "data": {
      "image/png": "[encoded data removed]",
      "text/plain": [
       "<Figure size 432x288 with 1 Axes>"
      ]
     },
     "metadata": {
      "needs_background": "light"
     },
     "output_type": "display_data"
    }
   ],
   "source": [
    "ipl_22.query('match_winner==second_bat').first_ings_score.plot(kind='box')\n",
    "## teams comfortable chased when target is b/w 142 to 161"
   ]
  },
  {
   "cell_type": "markdown",
   "id": "253c603c",
   "metadata": {},
   "source": [
    "## wickets picked by first batting team to win."
   ]
  },
  {
   "cell_type": "code",
   "execution_count": 27,
   "id": "27386db2",
   "metadata": {},
   "outputs": [
    {
     "data": {
      "text/plain": [
       "<AxesSubplot:>"
      ]
     },
     "execution_count": 27,
     "metadata": {},
     "output_type": "execute_result"
    },
    {
     "data": {
      "image/png": "[encoded data removed]",
      "text/plain": [
       "<Figure size 432x288 with 1 Axes>"
      ]
     },
     "metadata": {
      "needs_background": "light"
     },
     "output_type": "display_data"
    }
   ],
   "source": [
    "ipl_22.query('match_winner==first_bat').second_ings_wkts.plot(kind='box')"
   ]
  },
  {
   "cell_type": "markdown",
   "id": "8c37487a",
   "metadata": {},
   "source": [
    "## wickets picked by second batting team to win."
   ]
  },
  {
   "cell_type": "code",
   "execution_count": 28,
   "id": "eef66fa0",
   "metadata": {},
   "outputs": [
    {
     "data": {
      "text/plain": [
       "<AxesSubplot:>"
      ]
     },
     "execution_count": 28,
     "metadata": {},
     "output_type": "execute_result"
    },
    {
     "data": {
      "image/png": "[encoded data removed]",
      "text/plain": [
       "<Figure size 432x288 with 1 Axes>"
      ]
     },
     "metadata": {
      "needs_background": "light"
     },
     "output_type": "display_data"
    }
   ],
   "source": [
    "ipl_22.query('match_winner==second_bat').first_ings_wkts.plot(kind='box')"
   ]
  },
  {
   "cell_type": "code",
   "execution_count": 29,
   "id": "38394d4c",
   "metadata": {},
   "outputs": [
    {
     "data": {
      "text/plain": [
       "Kuldeep Yadav        4\n",
       "Jos Buttler          3\n",
       "Umran Malik          2\n",
       "Jasprit Bumrah       2\n",
       "David Miller         2\n",
       "Yuzvendra Chahal     2\n",
       "Wanindu Hasaranga    2\n",
       "Rahul Tripathi       2\n",
       "Quinton de Kock      2\n",
       "K L Rahul            2\n",
       "Name: player_of_the_match, dtype: int64"
      ]
     },
     "execution_count": 29,
     "metadata": {},
     "output_type": "execute_result"
    }
   ],
   "source": [
    "# Most no of Man of the Match awards\n",
    "ipl_22.player_of_the_match.value_counts().head(10)"
   ]
  },
  {
   "cell_type": "code",
   "execution_count": 30,
   "id": "bfa74937",
   "metadata": {},
   "outputs": [
    {
     "data": {
      "text/plain": [
       "Jos Buttler        7\n",
       "Quinton de Kock    5\n",
       "KL Rahul           4\n",
       "Shubman Gill       4\n",
       "David Warner       3\n",
       "Ishan Kishan       3\n",
       "Faf du Plessis     3\n",
       "W. Saha            3\n",
       "Mitchell Marsh     2\n",
       "Shikhar Dhawan     2\n",
       "Name: top_scorer, dtype: int64"
      ]
     },
     "execution_count": 30,
     "metadata": {},
     "output_type": "execute_result"
    }
   ],
   "source": [
    "## most times top_scorer \n",
    "ipl_22.top_scorer.value_counts().head(10)"
   ]
  },
  {
   "cell_type": "code",
   "execution_count": 31,
   "id": "44c07796",
   "metadata": {},
   "outputs": [
    {
     "data": {
      "text/plain": [
       "Yuzvendra Chahal    5\n",
       "Rashid Khan         4\n",
       "Avesh Khan          3\n",
       "Kagiso Rabada       3\n",
       "Kuldeep Yadav       3\n",
       "Jasprit Bumrah      3\n",
       "Josh Hazlewood      3\n",
       "T Natarajan         3\n",
       "Andre Russell       2\n",
       "Hardik Pandya       2\n",
       "Name: best_bowling, dtype: int64"
      ]
     },
     "execution_count": 31,
     "metadata": {},
     "output_type": "execute_result"
    }
   ],
   "source": [
    "ipl_22.best_bowling.value_counts().head(10)"
   ]
  },
  {
   "cell_type": "code",
   "execution_count": 32,
   "id": "e9b7305c",
   "metadata": {},
   "outputs": [
    {
     "data": {
      "text/html": [
       "<div>\n",
       "<style scoped>\n",
       "    .dataframe tbody tr th:only-of-type {\n",
       "        vertical-align: middle;\n",
       "    }\n",
       "\n",
       "    .dataframe tbody tr th {\n",
       "        vertical-align: top;\n",
       "    }\n",
       "\n",
       "    .dataframe thead th {\n",
       "        text-align: right;\n",
       "    }\n",
       "</style>\n",
       "<table border=\"1\" class=\"dataframe\">\n",
       "  <thead>\n",
       "    <tr style=\"text-align: right;\">\n",
       "      <th></th>\n",
       "      <th>top_scorer</th>\n",
       "      <th>highscore</th>\n",
       "    </tr>\n",
       "    <tr>\n",
       "      <th>match_id</th>\n",
       "      <th></th>\n",
       "      <th></th>\n",
       "    </tr>\n",
       "  </thead>\n",
       "  <tbody>\n",
       "    <tr>\n",
       "      <th>66</th>\n",
       "      <td>Quinton de Kock</td>\n",
       "      <td>140</td>\n",
       "    </tr>\n",
       "    <tr>\n",
       "      <th>34</th>\n",
       "      <td>Jos Buttler</td>\n",
       "      <td>116</td>\n",
       "    </tr>\n",
       "    <tr>\n",
       "      <th>72</th>\n",
       "      <td>Rajat Patidar</td>\n",
       "      <td>112</td>\n",
       "    </tr>\n",
       "    <tr>\n",
       "      <th>73</th>\n",
       "      <td>Jos Buttler</td>\n",
       "      <td>106</td>\n",
       "    </tr>\n",
       "    <tr>\n",
       "      <th>30</th>\n",
       "      <td>Jos Buttler</td>\n",
       "      <td>103</td>\n",
       "    </tr>\n",
       "  </tbody>\n",
       "</table>\n",
       "</div>"
      ],
      "text/plain": [
       "               top_scorer  highscore\n",
       "match_id                            \n",
       "66        Quinton de Kock        140\n",
       "34            Jos Buttler        116\n",
       "72          Rajat Patidar        112\n",
       "73            Jos Buttler        106\n",
       "30            Jos Buttler        103"
      ]
     },
     "execution_count": 32,
     "metadata": {},
     "output_type": "execute_result"
    }
   ],
   "source": [
    "## top 5 highest scores  in ipl 2022\n",
    "ipl_22[['top_scorer','highscore']].sort_values(\"highscore\",ascending=False).head(5)"
   ]
  },
  {
   "cell_type": "code",
   "execution_count": 33,
   "id": "f1c1d864",
   "metadata": {},
   "outputs": [
    {
     "data": {
      "text/html": [
       "<div>\n",
       "<style scoped>\n",
       "    .dataframe tbody tr th:only-of-type {\n",
       "        vertical-align: middle;\n",
       "    }\n",
       "\n",
       "    .dataframe tbody tr th {\n",
       "        vertical-align: top;\n",
       "    }\n",
       "\n",
       "    .dataframe thead th {\n",
       "        text-align: right;\n",
       "    }\n",
       "</style>\n",
       "<table border=\"1\" class=\"dataframe\">\n",
       "  <thead>\n",
       "    <tr style=\"text-align: right;\">\n",
       "      <th></th>\n",
       "      <th>best_bowling</th>\n",
       "      <th>best_bowling_figure</th>\n",
       "    </tr>\n",
       "    <tr>\n",
       "      <th>match_id</th>\n",
       "      <th></th>\n",
       "      <th></th>\n",
       "    </tr>\n",
       "  </thead>\n",
       "  <tbody>\n",
       "    <tr>\n",
       "      <th>30</th>\n",
       "      <td>Yuzvendra Chahal</td>\n",
       "      <td>5--40</td>\n",
       "    </tr>\n",
       "    <tr>\n",
       "      <th>40</th>\n",
       "      <td>Umran Malik</td>\n",
       "      <td>5--25</td>\n",
       "    </tr>\n",
       "    <tr>\n",
       "      <th>54</th>\n",
       "      <td>Wanindu Hasaranga</td>\n",
       "      <td>5--18</td>\n",
       "    </tr>\n",
       "    <tr>\n",
       "      <th>56</th>\n",
       "      <td>Jasprit Bumrah</td>\n",
       "      <td>5--10</td>\n",
       "    </tr>\n",
       "    <tr>\n",
       "      <th>35</th>\n",
       "      <td>Andre Russell</td>\n",
       "      <td>4--5</td>\n",
       "    </tr>\n",
       "  </tbody>\n",
       "</table>\n",
       "</div>"
      ],
      "text/plain": [
       "               best_bowling best_bowling_figure\n",
       "match_id                                       \n",
       "30         Yuzvendra Chahal               5--40\n",
       "40              Umran Malik               5--25\n",
       "54        Wanindu Hasaranga               5--18\n",
       "56           Jasprit Bumrah               5--10\n",
       "35            Andre Russell                4--5"
      ]
     },
     "execution_count": 33,
     "metadata": {},
     "output_type": "execute_result"
    }
   ],
   "source": [
    "## top 5 best bowling figures in ipl 2022\n",
    "ipl_22[['best_bowling','best_bowling_figure']].sort_values(\"best_bowling_figure\",ascending=False).head(5)"
   ]
  },
  {
   "cell_type": "code",
   "execution_count": 34,
   "id": "a384ec2d",
   "metadata": {},
   "outputs": [],
   "source": [
    "# get all details of a particular team...\n",
    "def campaign(team_name):\n",
    "    total=ipl_22[(ipl_22.team1==team_name) | (ipl_22.team2==team_name) ]\n",
    "    wins=len(total.loc[total.match_winner==team_name])\n",
    "    loses=len(total)-wins\n",
    "    toss_wins=len(total[total.toss_winner==team_name])\n",
    "    toss_wins_match_wins=len(total[(total.match_winner==team_name) & (total.toss_winner==team_name)])\n",
    "    first_bat_wins=len(total[(total['first_bat']==team_name) & (total.match_winner==team_name)] )# second _wins...\n",
    "    return [total,wins,loses,toss_wins,toss_wins_match_wins,first_bat_wins,wins-first_bat_wins]"
   ]
  },
  {
   "cell_type": "code",
   "execution_count": 35,
   "id": "2b0a389f",
   "metadata": {},
   "outputs": [],
   "source": [
    "def points_table(t,team1):\n",
    "    k=pd.DataFrame()\n",
    "    k['team']=team1\n",
    "    k['opponent']=np.where(t['team1']!=team1, t['team1'],t['team2'])\n",
    "    k['win_by_team']=np.where(t.match_winner==team1,1,0)\n",
    "    return k.groupby('opponent').agg(\n",
    "    match_palyed=pd.NamedAgg(column=\"win_by_team\", aggfunc=\"count\"),\n",
    "    wins=pd.NamedAgg(column=\"win_by_team\", aggfunc=\"sum\"))"
   ]
  },
  {
   "cell_type": "code",
   "execution_count": 37,
   "id": "cb2ae362",
   "metadata": {},
   "outputs": [],
   "source": [
    "def genrate(team_name):\n",
    "    stats=campaign(team_name)\n",
    "    plt.style.use(\"seaborn\")\n",
    "    plt.tight_layout()\n",
    "    fig = plt.figure()\n",
    "    text = f\"{team_name} in the IPL 2022\"\n",
    "    fig.suptitle(t=text, x=.7, y=1.7, fontsize=18, fontweight=\"bold\")\n",
    "    ax1 = fig.add_axes([0,0,.7,1])\n",
    "    ax2 = fig.add_axes([0.8, 0, .7, 1])\n",
    "    ax3 = fig.add_axes([0, 1.1, .7, 0.5])\n",
    "    ax4 = fig.add_axes([0.8, 1.1, .7, 0.5])\n",
    "    #ax5 = fig.add_axes([0.8, 1.1, .7, 0.5])\n",
    "    ax1.margins(x=.1,y=.1)\n",
    "    ax2.margins(x=.1,y=.1)\n",
    "    \n",
    "    # total wins vs loses.\n",
    "    values=[stats[1],stats[2]]\n",
    "    labels=['Wins','Loses']\n",
    "    ax3.bar(labels,values,color=['c','b'],width=0.4)\n",
    "    ax3.set_title(\"Total Wins vs Loses\",fontsize=14,fontweight=\"bold\")\n",
    "    \n",
    "    # toss_wins vs actual wins...\n",
    "    values=[stats[3]-stats[4],stats[4]]\n",
    "    labels=['Toss_wins_match_loss','Toss_wins_match_wins']\n",
    "    ax4.pie(values,labels = labels, autopct='%.0f%%')\n",
    "    ax4.set_title(\"Toss Decision leads to Win\",fontsize=14,fontweight=\"bold\")\n",
    "    \n",
    "    # defending vs Chasing wins..\n",
    "    values=[int(stats[5]),int(stats[6])]\n",
    "    labels=['Runs','Wickets']\n",
    "    ax1.bar(labels,values,color=['g','b'],width=0.4)\n",
    "    ax1.set_title(\"Won_By\",fontsize=14,fontweight=\"bold\")\n",
    "    \n",
    "    # first_innigs_avg when loss && fisrt_innings_avg when win\n",
    "    \n",
    "    t=stats[0][(stats[0].match_winner==team_name) | (stats[0].first_bat==team_name)]\n",
    "    k=stats[0][(stats[0].match_winner!=team_name) | (stats[0].first_bat==team_name)]\n",
    "    m=stats[0][(stats[0].match_winner==team_name) | (stats[0].second_bat==team_name)]\n",
    "    j=stats[0][(stats[0].match_winner!=team_name) | (stats[0].second_bat==team_name)]\n",
    "    data=[t.first_ings_score,k.first_ings_score,m.first_ings_score,j.first_ings_score]\n",
    "    ax2.boxplot(data,labels=['team wins','team loss','opponent win','opponent loss'])\n",
    "    ax2.set_title('First Innnigs Score',fontsize=14,fontweight=\"bold\")\n",
    "    \n",
    "    ## wins according to the oppostion\n",
    "    k=points_table(stats[0][['team1','team2','match_winner']],team_name)\n",
    "    k.plot(kind='bar')\n",
    "    plt.title(team_name + \"'s Opponent in ipl 2022\",fontweight=\"bold\")\n",
    "    plt.show()"
   ]
  },
  {
   "cell_type": "code",
   "execution_count": 39,
   "id": "fa389e49",
   "metadata": {},
   "outputs": [
    {
     "data": {
      "text/plain": [
       "<Figure size 576x396 with 0 Axes>"
      ]
     },
     "metadata": {},
     "output_type": "display_data"
    },
    {
     "data": {
      "image/png": "[encoded data removed]",
      "text/plain": [
       "<Figure size 576x396 with 4 Axes>"
      ]
     },
     "metadata": {},
     "output_type": "display_data"
    },
    {
     "data": {
      "image/png": "[encoded data removed]",
      "text/plain": [
       "<Figure size 576x396 with 1 Axes>"
      ]
     },
     "metadata": {},
     "output_type": "display_data"
    }
   ],
   "source": [
    "genrate('Chennai')"
   ]
  },
  {
   "cell_type": "code",
   "execution_count": 40,
   "id": "160718ce",
   "metadata": {},
   "outputs": [
    {
     "data": {
      "text/plain": [
       "<Figure size 576x396 with 0 Axes>"
      ]
     },
     "metadata": {},
     "output_type": "display_data"
    },
    {
     "data": {
      "image/png": "[encoded data removed]",
      "text/plain": [
       "<Figure size 576x396 with 4 Axes>"
      ]
     },
     "metadata": {},
     "output_type": "display_data"
    },
    {
     "data": {
      "image/png": "[encoded data removed]",
      "text/plain": [
       "<Figure size 576x396 with 1 Axes>"
      ]
     },
     "metadata": {},
     "output_type": "display_data"
    }
   ],
   "source": [
    "genrate('Gujarat')"
   ]
  }
 ],
 "metadata": {
  "kernelspec": {
   "display_name": "Python 3",
   "language": "python",
   "name": "python3"
  },
  "language_info": {
   "codemirror_mode": {
    "name": "ipython",
    "version": 3
   },
   "file_extension": ".py",
   "mimetype": "text/x-python",
   "name": "python",
   "nbconvert_exporter": "python",
   "pygments_lexer": "ipython3",
   "version": "3.8.8"
  }
 },
 "nbformat": 4,
 "nbformat_minor": 5
}
